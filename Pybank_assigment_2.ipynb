{
 "cells": [
  {
   "cell_type": "code",
   "execution_count": 6,
   "id": "699e623d-4de4-4c81-b2f2-3b07ae58ccee",
   "metadata": {
    "tags": []
   },
   "outputs": [],
   "source": [
    "# Create a python script to analyze the financial record of company\n",
    "\n",
    "from pathlib import Path\n",
    "import csv\n",
    "csvpath = Path(\"budget_data.csv\")\n",
    "output_path = Path(\"Pybank.txt\")"
   ]
  },
  {
   "cell_type": "code",
   "execution_count": 7,
   "id": "ab4367cd-85c8-4ae2-a99c-1e5fdc04528f",
   "metadata": {
    "tags": []
   },
   "outputs": [
    {
     "name": "stdout",
     "output_type": "stream",
     "text": [
      "Financial Analysis\n",
      "-------------------\n",
      "\n",
      "Total Months: 86\n",
      "Average Change: $-2315.12\n",
      "greatest increase in profits Feb-2012 $1926159\n",
      "greatest decrease in profits Sep-2013 $-2196167\n"
     ]
    }
   ],
   "source": [
    "# define parameters and variables\n",
    "dates = 0\n",
    "pnl = 0\n",
    "month_change = []\n",
    "greatest_increase = [\"\", 0]\n",
    "greatest_decrease = [\"\", 9999999999999999]\n",
    "profits = []\n",
    "profit_change = []\n",
    "month_of_change = []\n",
    "max_increase_month = ''\n",
    "max_increase_month = ''\n",
    "\n",
    "#read the csv file\n",
    "with open(csvpath, 'r', newline='') as csvfile:\n",
    "    csvreader = csv.reader(csvfile, delimiter=\",\")\n",
    "    csv_header = next(csvreader)\n",
    "    first_row = next(csvreader)\n",
    "    dates = dates + 1 \n",
    "    pnl = pnl + int(first_row[1])\n",
    "    prev_pnl = int(first_row[1])\n",
    "    \n",
    "    for row in csvreader:\n",
    "    #calculate total\n",
    "        dates += 1\n",
    "        pnl += int(row[1])\n",
    "    #calculate the difference    \n",
    "        pnldiff = int(row[1]) - prev_pnl\n",
    "        prev_pnl = int(row[1])\n",
    "        profit_change += [pnldiff]\n",
    "        month_change = month_change + [row [0]]\n",
    "       \n",
    "    #greatest increase in profits and losses \n",
    "        if pnldiff > greatest_increase[1]:\n",
    "            greatest_increase[0] = row[0]\n",
    "            greatest_increase[1] = pnldiff\n",
    "            \n",
    "        if pnldiff  < greatest_decrease[1]:\n",
    "            greatest_decrease[0] = row[0]\n",
    "            greatest_decrease[1] = pnldiff\n",
    "    \n",
    "             \n",
    "#calcuate average change in profit and loss            \n",
    "average = round(sum(profit_change)/len(profit_change),2)\n",
    "\n",
    "print(\"Financial Analysis\")\n",
    "print(\"-------------------\\n\")\n",
    "print(f\"Total Months: {dates}\")\n",
    "print(f\"Average Change: ${average}\")\n",
    "print(f\"greatest increase in profits {greatest_increase[0]} ${greatest_increase[1]}\")\n",
    "print(f\"greatest decrease in profits {greatest_decrease[0]} ${greatest_decrease[1]}\")\n"
   ]
  },
  {
   "cell_type": "code",
   "execution_count": 10,
   "id": "b6ee277c-0858-492e-9e4e-60bb90279e03",
   "metadata": {},
   "outputs": [],
   "source": [
    "with open(output_path,\"w\") as Pybank:\n",
    "    Pybank.write(f\"Financial Analysis\\n\")\n",
    "    Pybank.write(\"-------------------\\n\")\n",
    "    Pybank.write(f\"Total Months: {dates}\\n\")\n",
    "    Pybank.write(f\"Average Change: ${average}\\n\")\n",
    "    Pybank.write(f\"greatest increase in profits {greatest_increase[0]} ${greatest_increase[1]}\\n\")\n",
    "    Pybank.write(f\"greatest decrease in profits {greatest_decrease[0]} ${greatest_decrease[1]}\\n\")\n"
   ]
  },
  {
   "cell_type": "code",
   "execution_count": null,
   "id": "ab4fc2f5-cc5f-418c-9c12-4b5b908c02e1",
   "metadata": {},
   "outputs": [],
   "source": []
  }
 ],
 "metadata": {
  "kernelspec": {
   "display_name": "Python 3 (ipykernel)",
   "language": "python",
   "name": "python3"
  },
  "language_info": {
   "codemirror_mode": {
    "name": "ipython",
    "version": 3
   },
   "file_extension": ".py",
   "mimetype": "text/x-python",
   "name": "python",
   "nbconvert_exporter": "python",
   "pygments_lexer": "ipython3",
   "version": "3.9.12"
  }
 },
 "nbformat": 4,
 "nbformat_minor": 5
}
