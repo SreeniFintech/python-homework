{
 "cells": [
  {
   "cell_type": "code",
   "execution_count": 2,
   "id": "5c678edd-d3bc-417b-90df-7140258a9209",
   "metadata": {},
   "outputs": [],
   "source": [
    "from pathlib import Path\n",
    "\n",
    "import csv"
   ]
  },
  {
   "cell_type": "code",
   "execution_count": 3,
   "id": "6ec6bab4-befc-48a2-acd6-2a980a60b93c",
   "metadata": {},
   "outputs": [],
   "source": [
    "csvpath = Path(\"budget_data.csv\")"
   ]
  },
  {
   "cell_type": "code",
   "execution_count": 5,
   "id": "5da01368-9906-4659-aa32-fba98a208eea",
   "metadata": {},
   "outputs": [],
   "source": [
    "# define parameters, list and variables\n",
    "dates = 0 \n",
    "dates_change = []\n",
    "pnl_diff = []\n",
    "greatest_increase = [\"\", 0]\n",
    "greatest_decrease = [\"\", 9999999999999999999]\n",
    "pnl = 0"
   ]
  },
  {
   "cell_type": "code",
   "execution_count": 14,
   "id": "c20aa5ff-cb36-4734-bd40-7ac634100e41",
   "metadata": {},
   "outputs": [
    {
     "name": "stdout",
     "output_type": "stream",
     "text": [
      "518\n"
     ]
    }
   ],
   "source": [
    "# open the csv file \n",
    "with open(csvpath, 'r', newline='') as csvfile:\n",
    "    csvreader = csv.reader(csvfile, delimiter=\",\")\n",
    "    \n",
    "    #header rows and first rows \n",
    "    csv_header = next(csvreader)\n",
    "    first_row = next(csvreader)\n",
    "    dates = dates + 1 \n",
    "    pnl = pnl + int(first_row[1])\n",
    "    prev_pnl = int(first_row[1])\n",
    "\n",
    "    print(dates)\n",
    "\n",
    "    for row in csvreader:\n",
    "        dates += 1\n",
    "        pnl += int(row[1])\n"
   ]
  },
  {
   "cell_type": "code",
   "execution_count": null,
   "id": "78a1557c-e929-4c5e-892c-3d9c5a4718ca",
   "metadata": {},
   "outputs": [],
   "source": []
  }
 ],
 "metadata": {
  "kernelspec": {
   "display_name": "Python 3 (ipykernel)",
   "language": "python",
   "name": "python3"
  },
  "language_info": {
   "codemirror_mode": {
    "name": "ipython",
    "version": 3
   },
   "file_extension": ".py",
   "mimetype": "text/x-python",
   "name": "python",
   "nbconvert_exporter": "python",
   "pygments_lexer": "ipython3",
   "version": "3.9.12"
  }
 },
 "nbformat": 4,
 "nbformat_minor": 5
}
